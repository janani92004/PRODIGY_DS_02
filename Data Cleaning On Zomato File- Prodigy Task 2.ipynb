{
 "cells": [
  {
   "cell_type": "code",
   "execution_count": 3,
   "id": "cf3a8171",
   "metadata": {
    "scrolled": false
   },
   "outputs": [
    {
     "name": "stdout",
     "output_type": "stream",
     "text": [
      "                                                     url  \\\n",
      "0      https://www.zomato.com/bangalore/jalsa-banasha...   \n",
      "1      https://www.zomato.com/bangalore/spice-elephan...   \n",
      "2      https://www.zomato.com/SanchurroBangalore?cont...   \n",
      "3      https://www.zomato.com/bangalore/addhuri-udupi...   \n",
      "4      https://www.zomato.com/bangalore/grand-village...   \n",
      "...                                                  ...   \n",
      "43742  https://www.zomato.com/bangalore/the-farm-hous...   \n",
      "43743  https://www.zomato.com/bangalore/bhagini-2-whi...   \n",
      "43744  https://www.zomato.com/bangalore/best-brews-fo...   \n",
      "43745  https://www.zomato.com/bangalore/chime-sherato...   \n",
      "43746  https://www.zomato.com/bangalore/the-nest-the-...   \n",
      "\n",
      "                                                 address  \\\n",
      "0      942, 21st Main Road, 2nd Stage, Banashankari, ...   \n",
      "1      2nd Floor, 80 Feet Road, Near Big Bazaar, 6th ...   \n",
      "2      1112, Next to KIMS Medical College, 17th Cross...   \n",
      "3      1st Floor, Annakuteera, 3rd Stage, Banashankar...   \n",
      "4      10, 3rd Floor, Lakshmi Associates, Gandhi Baza...   \n",
      "...                                                  ...   \n",
      "43742  136, SAP Labs India, KIADB Export Promotion In...   \n",
      "43743  139/C1, Next To GR Tech Park, Pattandur Agraha...   \n",
      "43744  Four Points by Sheraton Bengaluru, 43/3, White...   \n",
      "43745  Sheraton Grand Bengaluru Whitefield Hotel & Co...   \n",
      "43746  ITPL Main Road, KIADB Export Promotion Industr...   \n",
      "\n",
      "                                                    name online_order  \\\n",
      "0                                                  Jalsa          Yes   \n",
      "1                                         Spice Elephant          Yes   \n",
      "2                                        San Churro Cafe          Yes   \n",
      "3                                  Addhuri Udupi Bhojana           No   \n",
      "4                                          Grand Village           No   \n",
      "...                                                  ...          ...   \n",
      "43742                         The Farm House Bar n Grill           No   \n",
      "43743                                            Bhagini           No   \n",
      "43744  Best Brews - Four Points by Sheraton Bengaluru...           No   \n",
      "43745  Chime - Sheraton Grand Bengaluru Whitefield Ho...           No   \n",
      "43746                       The Nest - The Den Bengaluru           No   \n",
      "\n",
      "      book_table    rate votes                                  phone  \\\n",
      "0            Yes   4.1/5   775    080 42297555_x000D_\\n+91 9743772233   \n",
      "1             No   4.1/5   787                           080 41714161   \n",
      "2             No   3.8/5   918                         +91 9663487993   \n",
      "3             No   3.7/5    88                         +91 9620009302   \n",
      "4             No   3.8/5   166  +91 8026612447_x000D_\\n+91 9901210005   \n",
      "...          ...     ...   ...                                    ...   \n",
      "43742         No  3.7 /5    34         +91 9980121279\\n+91 9900240646   \n",
      "43743         No  2.5 /5    81                           080 65951222   \n",
      "43744         No  3.6 /5    27                           080 40301477   \n",
      "43745        Yes  4.3 /5   236                           080 49652769   \n",
      "43746         No  3.4 /5    13                         +91 8071117272   \n",
      "\n",
      "                         location            rest_type  ... Unnamed: 4150  \\\n",
      "0                    Banashankari        Casual Dining  ...           NaN   \n",
      "1                    Banashankari        Casual Dining  ...           NaN   \n",
      "2                    Banashankari  Cafe, Casual Dining  ...           NaN   \n",
      "3                    Banashankari          Quick Bites  ...           NaN   \n",
      "4                    Basavanagudi        Casual Dining  ...           NaN   \n",
      "...                           ...                  ...  ...           ...   \n",
      "43742                  Whitefield   Casual Dining, Bar  ...           NaN   \n",
      "43743                  Whitefield   Casual Dining, Bar  ...           NaN   \n",
      "43744                  Whitefield                  Bar  ...           NaN   \n",
      "43745  ITPL Main Road, Whitefield                  Bar  ...           NaN   \n",
      "43746  ITPL Main Road, Whitefield   Bar, Casual Dining  ...           NaN   \n",
      "\n",
      "      Unnamed: 4151 Unnamed: 4152 Unnamed: 4153 Unnamed: 4154 Unnamed: 4155  \\\n",
      "0               NaN           NaN           NaN           NaN           NaN   \n",
      "1               NaN           NaN           NaN           NaN           NaN   \n",
      "2               NaN           NaN           NaN           NaN           NaN   \n",
      "3               NaN           NaN           NaN           NaN           NaN   \n",
      "4               NaN           NaN           NaN           NaN           NaN   \n",
      "...             ...           ...           ...           ...           ...   \n",
      "43742           NaN           NaN           NaN           NaN           NaN   \n",
      "43743           NaN           NaN           NaN           NaN           NaN   \n",
      "43744           NaN           NaN           NaN           NaN           NaN   \n",
      "43745           NaN           NaN           NaN           NaN           NaN   \n",
      "43746           NaN           NaN           NaN           NaN           NaN   \n",
      "\n",
      "      Unnamed: 4156 Unnamed: 4157 Unnamed: 4158 Unnamed: 4159  \n",
      "0               NaN           NaN           NaN           NaN  \n",
      "1               NaN           NaN           NaN           NaN  \n",
      "2               NaN           NaN           NaN           NaN  \n",
      "3               NaN           NaN           NaN           NaN  \n",
      "4               NaN           NaN           NaN           NaN  \n",
      "...             ...           ...           ...           ...  \n",
      "43742           NaN           NaN           NaN           NaN  \n",
      "43743           NaN           NaN           NaN           NaN  \n",
      "43744           NaN           NaN           NaN           NaN  \n",
      "43745           NaN           NaN           NaN           NaN  \n",
      "43746           NaN           NaN           NaN           NaN  \n",
      "\n",
      "[43747 rows x 4160 columns]\n"
     ]
    }
   ],
   "source": [
    "import pandas as pd\n",
    "import pyarrow as pa\n",
    "import numpy as np\n",
    "\n",
    "dc = pd.read_excel('C:\\\\Users\\\\Windows\\\\Desktop\\\\zomato.xlsx')\n",
    "\n",
    "\n",
    "# to view the current data\n",
    "print(dc)\n",
    "\n"
   ]
  },
  {
   "cell_type": "code",
   "execution_count": 55,
   "id": "752e014b",
   "metadata": {},
   "outputs": [
    {
     "data": {
      "text/plain": [
       "url                                0\n",
       "address                            0\n",
       "name                               0\n",
       "online_order                       0\n",
       "book_table                         0\n",
       "rate                               0\n",
       "votes                              0\n",
       "phone                              0\n",
       "location                           0\n",
       "rest_type                        138\n",
       "dish_liked                     16639\n",
       "cuisines                           6\n",
       "approx_cost(for two people)        0\n",
       "reviews_list                       0\n",
       "menu_item                          0\n",
       "listed_in(type)                    0\n",
       "listed_in(city)                    0\n",
       "dtype: int64"
      ]
     },
     "execution_count": 55,
     "metadata": {},
     "output_type": "execute_result"
    }
   ],
   "source": [
    "#to check if there are any missing data values\n",
    "dc.isnull().sum()"
   ]
  },
  {
   "cell_type": "code",
   "execution_count": 56,
   "id": "c461b883",
   "metadata": {},
   "outputs": [],
   "source": [
    "# to handle the missing values\n",
    "dc = dc.fillna(np.nan)"
   ]
  },
  {
   "cell_type": "code",
   "execution_count": 57,
   "id": "483a93af",
   "metadata": {},
   "outputs": [
    {
     "data": {
      "text/plain": [
       "0"
      ]
     },
     "execution_count": 57,
     "metadata": {},
     "output_type": "execute_result"
    }
   ],
   "source": [
    "#checking for duplicated rows\n",
    "dc.duplicated().sum()"
   ]
  },
  {
   "cell_type": "code",
   "execution_count": 58,
   "id": "932b9d70",
   "metadata": {},
   "outputs": [
    {
     "data": {
      "text/html": [
       "<div>\n",
       "<style scoped>\n",
       "    .dataframe tbody tr th:only-of-type {\n",
       "        vertical-align: middle;\n",
       "    }\n",
       "\n",
       "    .dataframe tbody tr th {\n",
       "        vertical-align: top;\n",
       "    }\n",
       "\n",
       "    .dataframe thead th {\n",
       "        text-align: right;\n",
       "    }\n",
       "</style>\n",
       "<table border=\"1\" class=\"dataframe\">\n",
       "  <thead>\n",
       "    <tr style=\"text-align: right;\">\n",
       "      <th></th>\n",
       "      <th>votes</th>\n",
       "    </tr>\n",
       "  </thead>\n",
       "  <tbody>\n",
       "    <tr>\n",
       "      <th>count</th>\n",
       "      <td>39364.000000</td>\n",
       "    </tr>\n",
       "    <tr>\n",
       "      <th>mean</th>\n",
       "      <td>362.206915</td>\n",
       "    </tr>\n",
       "    <tr>\n",
       "      <th>std</th>\n",
       "      <td>898.697632</td>\n",
       "    </tr>\n",
       "    <tr>\n",
       "      <th>min</th>\n",
       "      <td>0.000000</td>\n",
       "    </tr>\n",
       "    <tr>\n",
       "      <th>25%</th>\n",
       "      <td>23.000000</td>\n",
       "    </tr>\n",
       "    <tr>\n",
       "      <th>50%</th>\n",
       "      <td>77.500000</td>\n",
       "    </tr>\n",
       "    <tr>\n",
       "      <th>75%</th>\n",
       "      <td>288.000000</td>\n",
       "    </tr>\n",
       "    <tr>\n",
       "      <th>max</th>\n",
       "      <td>16832.000000</td>\n",
       "    </tr>\n",
       "  </tbody>\n",
       "</table>\n",
       "</div>"
      ],
      "text/plain": [
       "              votes\n",
       "count  39364.000000\n",
       "mean     362.206915\n",
       "std      898.697632\n",
       "min        0.000000\n",
       "25%       23.000000\n",
       "50%       77.500000\n",
       "75%      288.000000\n",
       "max    16832.000000"
      ]
     },
     "execution_count": 58,
     "metadata": {},
     "output_type": "execute_result"
    }
   ],
   "source": [
    "#checking for outliers\n",
    "dc.describe()"
   ]
  },
  {
   "cell_type": "code",
   "execution_count": null,
   "id": "da1c9bb7",
   "metadata": {},
   "outputs": [],
   "source": [
    "# to clean online_order column\n",
    "dc['online_order'] = dc['online_order'].fillna('NA').str.lower()\n",
    "condition = dc['online_order'].isin(['yes', 'no'])\n",
    "dc_filtered = dc[condition]\n",
    "dc_filtered.to_excel('C:\\\\Users\\\\Windows\\\\Desktop\\\\zomato.xlsx', index=False)\n",
    "print(\"COLUMN ADDED SUCCESSFULLY\")"
   ]
  },
  {
   "cell_type": "code",
   "execution_count": 60,
   "id": "92fedd76",
   "metadata": {},
   "outputs": [
    {
     "name": "stdout",
     "output_type": "stream",
     "text": [
      "0        https://www.zomato.com/bangalore/jalsa-banasha...\n",
      "1        https://www.zomato.com/bangalore/spice-elephan...\n",
      "2        https://www.zomato.com/SanchurroBangalore?cont...\n",
      "3        https://www.zomato.com/bangalore/addhuri-udupi...\n",
      "4        https://www.zomato.com/bangalore/grand-village...\n",
      "                               ...                        \n",
      "39359    https://www.zomato.com/bangalore/the-farm-hous...\n",
      "39360    https://www.zomato.com/bangalore/bhagini-2-whi...\n",
      "39361    https://www.zomato.com/bangalore/best-brews-fo...\n",
      "39362    https://www.zomato.com/bangalore/chime-sherato...\n",
      "39363    https://www.zomato.com/bangalore/the-nest-the-...\n",
      "Name: url, Length: 39364, dtype: object\n"
     ]
    }
   ],
   "source": [
    "# to clean url column\n",
    "dc['url'] = dc['url'].fillna('NA')\n",
    "condition = dc['url'].str.startswith('https:')\n",
    "dc_filtered = dc[condition]\n",
    "dc = dc[condition]\n",
    "print(dc.url)\n",
    "dc.to_excel('C:\\\\Users\\\\Windows\\\\Desktop\\\\zomato.excel', index=False)\n"
   ]
  },
  {
   "cell_type": "code",
   "execution_count": 61,
   "id": "21669347",
   "metadata": {},
   "outputs": [
    {
     "name": "stdout",
     "output_type": "stream",
     "text": [
      "0        Yes\n",
      "1         No\n",
      "2         No\n",
      "3         No\n",
      "4         No\n",
      "        ... \n",
      "39359     No\n",
      "39360     No\n",
      "39361     No\n",
      "39362    Yes\n",
      "39363     No\n",
      "Name: book_table, Length: 39364, dtype: object\n"
     ]
    }
   ],
   "source": [
    "# to clean book_table  column\n",
    "dc['book_table'] = dc['book_table'].fillna('NA')\n",
    "condition = (dc['book_table'].isin(['Yes', 'yes', 'no', 'No']))\n",
    "dc_filtered = dc[condition]\n",
    "dc = dc[condition]\n",
    "print(dc.book_table)\n",
    "dc.to_excel('C:\\\\Users\\\\Windows\\\\Desktop\\\\zomato.excel', index=False)"
   ]
  },
  {
   "cell_type": "code",
   "execution_count": 62,
   "id": "e6ce209c",
   "metadata": {},
   "outputs": [
    {
     "name": "stdout",
     "output_type": "stream",
     "text": [
      "0         4.1/5\n",
      "1         4.1/5\n",
      "2         3.8/5\n",
      "3         3.7/5\n",
      "4         3.8/5\n",
      "          ...  \n",
      "39359    3.7 /5\n",
      "39360    2.5 /5\n",
      "39361    3.6 /5\n",
      "39362    4.3 /5\n",
      "39363    3.4 /5\n",
      "Name: rate, Length: 39364, dtype: object\n"
     ]
    }
   ],
   "source": [
    "#to clean rate column\n",
    "dc['rate'] = dc['rate'].fillna('NA')\n",
    "condition = dc['rate'].str.contains('^\\d', regex=True)\n",
    "dc_filtered = dc[condition]\n",
    "dc = dc[condition]\n",
    "print(dc.rate)\n",
    "dc.to_excel('C:\\\\Users\\\\Windows\\\\Desktop\\\\zomato.excel', index=False)"
   ]
  },
  {
   "cell_type": "code",
   "execution_count": 63,
   "id": "4b94498e",
   "metadata": {},
   "outputs": [
    {
     "name": "stdout",
     "output_type": "stream",
     "text": [
      "0                      Banashankari\n",
      "1                      Banashankari\n",
      "2                      Banashankari\n",
      "3                      Banashankari\n",
      "4                      Basavanagudi\n",
      "                    ...            \n",
      "39359                    Whitefield\n",
      "39360                    Whitefield\n",
      "39361                    Whitefield\n",
      "39362    ITPL Main Road, Whitefield\n",
      "39363    ITPL Main Road, Whitefield\n",
      "Name: location, Length: 39364, dtype: object\n"
     ]
    }
   ],
   "source": [
    "# to clean location column\n",
    "dc['location'] = dc['location'].fillna('NA')\n",
    "condition = dc['location'].str.match(r'^[A-Z]')\n",
    "dc = dc.loc[condition].copy()\n",
    "print(dc.location)\n",
    "dc.to_excel('C:\\\\Users\\\\Windows\\\\Desktop\\\\zomato.excel', index=False)"
   ]
  },
  {
   "cell_type": "code",
   "execution_count": 64,
   "id": "027e2da4",
   "metadata": {},
   "outputs": [
    {
     "name": "stdout",
     "output_type": "stream",
     "text": [
      "0          080 42297555\\r\\n+91 9743772233\n",
      "1                            080 41714161\n",
      "2                          +91 9663487993\n",
      "3                          +91 9620009302\n",
      "4        +91 8026612447\\r\\n+91 9901210005\n",
      "                       ...               \n",
      "39359      +91 9980121279\\n+91 9900240646\n",
      "39360                        080 65951222\n",
      "39361                        080 40301477\n",
      "39362                        080 49652769\n",
      "39363                      +91 8071117272\n",
      "Name: phone, Length: 39364, dtype: object\n"
     ]
    }
   ],
   "source": [
    "# to clean phone column\n",
    "dc['phone'] = dc['phone'].fillna('NA')\n",
    "condition = dc['phone'].str.match(r'^[+\\d]')\n",
    "dc_filtered = dc[condition]\n",
    "dc = dc[condition]\n",
    "print(dc.phone)\n",
    "dc.to_excel('C:\\\\Users\\\\Windows\\\\Desktop\\\\zomato.excel', index=False)"
   ]
  },
  {
   "cell_type": "code",
   "execution_count": 65,
   "id": "a32ddd94",
   "metadata": {},
   "outputs": [
    {
     "name": "stdout",
     "output_type": "stream",
     "text": [
      "0              Casual Dining\n",
      "1              Casual Dining\n",
      "2        Cafe, Casual Dining\n",
      "3                Quick Bites\n",
      "4              Casual Dining\n",
      "                ...         \n",
      "39359     Casual Dining, Bar\n",
      "39360     Casual Dining, Bar\n",
      "39361                    Bar\n",
      "39362                    Bar\n",
      "39363     Bar, Casual Dining\n",
      "Name: rest_type, Length: 39364, dtype: object\n"
     ]
    }
   ],
   "source": [
    "# to clean rest_type column\n",
    "dc['rest_type'] = dc['rest_type'].fillna('NA')\n",
    "condition = dc['rest_type'].str.match(r'^[A-Z]')\n",
    "dc_filtered = dc[condition]\n",
    "dc = dc[condition]\n",
    "print(dc.rest_type)\n",
    "dc.to_excel('C:\\\\Users\\\\Windows\\\\Desktop\\\\zomato.excel', index=False)"
   ]
  },
  {
   "cell_type": "code",
   "execution_count": 66,
   "id": "98c9575d",
   "metadata": {},
   "outputs": [
    {
     "name": "stdout",
     "output_type": "stream",
     "text": [
      "0        Pasta, Lunch Buffet, Masala Papad, Paneer Laja...\n",
      "1        Momos, Lunch Buffet, Chocolate Nirvana, Thai G...\n",
      "2        Churros, Cannelloni, Minestrone Soup, Hot Choc...\n",
      "3                                              Masala Dosa\n",
      "4                                      Panipuri, Gol Gappe\n",
      "                               ...                        \n",
      "39359                                                   NA\n",
      "39360                                 Biryani, Andhra Meal\n",
      "39361                                                   NA\n",
      "39362                         Cocktails, Pizza, Buttermilk\n",
      "39363                                                   NA\n",
      "Name: dish_liked, Length: 39364, dtype: object\n"
     ]
    }
   ],
   "source": [
    "# to clean dish_liked column\n",
    "dc['dish_liked'] = dc['dish_liked'].fillna('NA')\n",
    "condition = dc['dish_liked'].str.match(r'^[A-Z]')\n",
    "dc_filtered = dc[condition]\n",
    "dc = dc[condition]\n",
    "print(dc.dish_liked)\n",
    "dc.to_excel('C:\\\\Users\\\\Windows\\\\Desktop\\\\zomato.excel', index=False)"
   ]
  },
  {
   "cell_type": "code",
   "execution_count": 67,
   "id": "7e5f7e6e",
   "metadata": {},
   "outputs": [
    {
     "name": "stdout",
     "output_type": "stream",
     "text": [
      "0                     North Indian, Mughlai, Chinese\n",
      "1                        Chinese, North Indian, Thai\n",
      "2                             Cafe, Mexican, Italian\n",
      "3                         South Indian, North Indian\n",
      "4                           North Indian, Rajasthani\n",
      "                            ...                     \n",
      "39359                      North Indian, Continental\n",
      "39360    Andhra, South Indian, Chinese, North Indian\n",
      "39361                                    Continental\n",
      "39362                                    Finger Food\n",
      "39363         Finger Food, North Indian, Continental\n",
      "Name: cuisines, Length: 39364, dtype: object\n"
     ]
    }
   ],
   "source": [
    "# to clean cuisines column\n",
    "dc['cuisines'] = dc['cuisines'].fillna('NA')\n",
    "condition = dc['cuisines'].str.match(r'^[A-Z]')\n",
    "dc_filtered = dc[condition]\n",
    "dc = dc[condition]\n",
    "print(dc.cuisines)\n",
    "dc.to_excel('C:\\\\Users\\\\Windows\\\\Desktop\\\\zomato.excel', index=False)"
   ]
  },
  {
   "cell_type": "code",
   "execution_count": 68,
   "id": "56c8f75e",
   "metadata": {},
   "outputs": [
    {
     "name": "stdout",
     "output_type": "stream",
     "text": [
      "column updated\n"
     ]
    }
   ],
   "source": [
    "#to clean approx_cost(for two people) column\n",
    "dc['approx_cost(for two people)'] = dc['approx_cost(for two people)'].fillna('NA')\n",
    "condition = dc['approx_cost(for two people)'].str.contains('^\\d', regex=True)\n",
    "dc_filtered = dc[condition]\n",
    "dc = dc[condition]\n",
    "print('column updated')\n",
    "dc.to_excel('C:\\\\Users\\\\Windows\\\\Desktop\\\\zomato.excel', index=False)"
   ]
  },
  {
   "cell_type": "code",
   "execution_count": 69,
   "id": "30bab786",
   "metadata": {},
   "outputs": [
    {
     "name": "stdout",
     "output_type": "stream",
     "text": [
      "0        [('Rated 4.0', 'RATED\\n  A beautiful place to ...\n",
      "1        [('Rated 4.0', 'RATED\\n  Had been here for din...\n",
      "2        [('Rated 3.0', \"RATED\\n  Ambience is not that ...\n",
      "3        [('Rated 4.0', \"RATED\\n  Great food and proper...\n",
      "4        [('Rated 4.0', 'RATED\\n  Very good restaurant ...\n",
      "                               ...                        \n",
      "39359    [('Rated 4.0', 'RATED\\n  Ambience- Big and spa...\n",
      "39360    [('Rated 4.0', 'RATED\\n  A fine place to chill...\n",
      "39361    [('Rated 5.0', \"RATED\\n  Food and service are ...\n",
      "39362    [('Rated 4.0', 'RATED\\n  Nice and friendly pla...\n",
      "39363    [('Rated 5.0', 'RATED\\n  Great ambience , look...\n",
      "Name: reviews_list, Length: 39364, dtype: object\n"
     ]
    }
   ],
   "source": [
    "# to clean reviews_list column\n",
    "dc['reviews_list'] = dc['reviews_list'].fillna('NA')\n",
    "condition = dc['reviews_list'].str.contains(r'rated|Rated|RATED')\n",
    "dc_filtered = dc[condition]\n",
    "dc = dc[condition]\n",
    "print(dc.reviews_list)\n",
    "dc.to_excel('C:\\\\Users\\\\Windows\\\\Desktop\\\\zomato.excel', index=False)"
   ]
  },
  {
   "cell_type": "code",
   "execution_count": 70,
   "id": "890bff08",
   "metadata": {},
   "outputs": [
    {
     "name": "stdout",
     "output_type": "stream",
     "text": [
      "0        []\n",
      "1        []\n",
      "2        []\n",
      "3        []\n",
      "4        []\n",
      "         ..\n",
      "39359    []\n",
      "39360    []\n",
      "39361    []\n",
      "39362    []\n",
      "39363    []\n",
      "Name: menu_item, Length: 39364, dtype: object\n"
     ]
    }
   ],
   "source": [
    "# to clean menu item column\n",
    "dc['menu_item'] = dc['menu_item'].fillna('NA')\n",
    "condition = ~dc['menu_item'].str.contains(r'rated', case=False)\n",
    "dc_filtered = dc[condition]\n",
    "dc = dc.loc[condition].copy()\n",
    "print(dc.menu_item)\n",
    "dc.to_excel('C:\\\\Users\\\\Windows\\\\Desktop\\\\zomato.excel', index=False)"
   ]
  },
  {
   "cell_type": "code",
   "execution_count": 71,
   "id": "595413a1",
   "metadata": {},
   "outputs": [
    {
     "name": "stdout",
     "output_type": "stream",
     "text": [
      "column updated\n"
     ]
    }
   ],
   "source": [
    "# to clean listed_in(type) column\n",
    "dc['listed_in(type)'] = dc['listed_in(type)'].fillna('NA')\n",
    "condition = dc['listed_in(type)'].str.match(r'^[A-Z]')\n",
    "dc_filtered = dc[condition]\n",
    "dc = dc[condition]\n",
    "print('column updated')\n",
    "dc.to_excel('C:\\\\Users\\\\Windows\\\\Desktop\\\\zomato.excel', index=False)"
   ]
  },
  {
   "cell_type": "code",
   "execution_count": 72,
   "id": "1a3d7b5b",
   "metadata": {},
   "outputs": [
    {
     "name": "stdout",
     "output_type": "stream",
     "text": [
      "column updated\n"
     ]
    }
   ],
   "source": [
    "# to clean listed_in(city) column\n",
    "dc['listed_in(city)'] = dc['listed_in(city)'].fillna('NA')\n",
    "condition = dc['listed_in(city)'].str.match(r'^[A-Z]')\n",
    "dc_filtered = dc[condition]\n",
    "dc = dc[condition]\n",
    "print('column updated')\n",
    "dc.to_excel('C:\\\\Users\\\\Windows\\\\Desktop\\\\zomato.excel', index=False)"
   ]
  },
  {
   "cell_type": "code",
   "execution_count": 73,
   "id": "b331ad82",
   "metadata": {},
   "outputs": [
    {
     "name": "stdout",
     "output_type": "stream",
     "text": [
      "0                                                    Jalsa\n",
      "1                                           Spice Elephant\n",
      "2                                          San Churro Cafe\n",
      "3                                    Addhuri Udupi Bhojana\n",
      "4                                            Grand Village\n",
      "                               ...                        \n",
      "39359                           The Farm House Bar n Grill\n",
      "39360                                              Bhagini\n",
      "39361    Best Brews - Four Points by Sheraton Bengaluru...\n",
      "39362    Chime - Sheraton Grand Bengaluru Whitefield Ho...\n",
      "39363                         The Nest - The Den Bengaluru\n",
      "Name: name, Length: 39364, dtype: object\n"
     ]
    }
   ],
   "source": [
    "# to clean name column\n",
    "dc['name'] = dc['name'].fillna('NA')\n",
    "condition = dc['name'].str.match(r'^[A-Z0-9]')\n",
    "dc_filtered = dc[condition]\n",
    "dc = dc[condition]\n",
    "print(dc.name)\n",
    "\n",
    "dc.to_excel('C:\\\\Users\\\\Windows\\\\Desktop\\\\zomato.excel', index=False)"
   ]
  },
  {
   "cell_type": "code",
   "execution_count": 74,
   "id": "68724319",
   "metadata": {},
   "outputs": [
    {
     "name": "stdout",
     "output_type": "stream",
     "text": [
      "0        942, 21st Main Road, 2nd Stage, Banashankari, ...\n",
      "1        2nd Floor, 80 Feet Road, Near Big Bazaar, 6th ...\n",
      "2        1112, Next to KIMS Medical College, 17th Cross...\n",
      "3        1st Floor, Annakuteera, 3rd Stage, Banashankar...\n",
      "4        10, 3rd Floor, Lakshmi Associates, Gandhi Baza...\n",
      "                               ...                        \n",
      "39359    136, SAP Labs India, KIADB Export Promotion In...\n",
      "39360    139/C1, Next To GR Tech Park, Pattandur Agraha...\n",
      "39361    Four Points by Sheraton Bengaluru, 43/3, White...\n",
      "39362    Sheraton Grand Bengaluru Whitefield Hotel & Co...\n",
      "39363    ITPL Main Road, KIADB Export Promotion Industr...\n",
      "Name: address, Length: 39364, dtype: object\n"
     ]
    }
   ],
   "source": [
    "# to clean address column\n",
    "dc['address'] = dc['address'].fillna('NA')\n",
    "condition = dc['address'].str.match(r'^[A-Z0-9]')\n",
    "dc_filtered = dc[condition]\n",
    "dc = dc[condition]\n",
    "print(dc.address)\n",
    "dc.to_excel('C:\\\\Users\\\\Windows\\\\Desktop\\\\zomato.excel', index=False)"
   ]
  },
  {
   "cell_type": "code",
   "execution_count": 75,
   "id": "2c473d9b",
   "metadata": {},
   "outputs": [],
   "source": []
  },
  {
   "cell_type": "code",
   "execution_count": null,
   "id": "3d734c90",
   "metadata": {},
   "outputs": [],
   "source": []
  }
 ],
 "metadata": {
  "kernelspec": {
   "display_name": "Python 3 (ipykernel)",
   "language": "python",
   "name": "python3"
  },
  "language_info": {
   "codemirror_mode": {
    "name": "ipython",
    "version": 3
   },
   "file_extension": ".py",
   "mimetype": "text/x-python",
   "name": "python",
   "nbconvert_exporter": "python",
   "pygments_lexer": "ipython3",
   "version": "3.10.6"
  }
 },
 "nbformat": 4,
 "nbformat_minor": 5
}
